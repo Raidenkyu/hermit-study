{
  "nbformat": 4,
  "nbformat_minor": 0,
  "metadata": {
    "colab": {
      "name": "hermit.ipynb",
      "provenance": [],
      "collapsed_sections": [],
      "mount_file_id": "1bjaQNN_ivq8tV9qz_woWvVeNbmcSMdf9",
      "authorship_tag": "ABX9TyPfGkFXFKh2t+AY52nDO8lp",
      "include_colab_link": true
    },
    "kernelspec": {
      "name": "python3",
      "display_name": "Python 3"
    },
    "language_info": {
      "name": "python"
    }
  },
  "cells": [
    {
      "cell_type": "markdown",
      "metadata": {
        "id": "view-in-github",
        "colab_type": "text"
      },
      "source": [
        "<a href=\"https://colab.research.google.com/github/Raidenkyu/hermit-study/blob/master/hermit.ipynb\" target=\"_parent\"><img src=\"https://colab.research.google.com/assets/colab-badge.svg\" alt=\"Open In Colab\"/></a>"
      ]
    },
    {
      "cell_type": "code",
      "metadata": {
        "id": "WxLgBVjilIRw"
      },
      "source": [
        "import pandas as pd\n",
        "import matplotlib.pyplot as plt"
      ],
      "execution_count": 45,
      "outputs": []
    },
    {
      "cell_type": "code",
      "metadata": {
        "id": "27QeRrBRjM8V"
      },
      "source": [
        "projects_database = pd.read_csv('https://raw.githubusercontent.com/Raidenkyu/hermit-study/master/res/projects.csv?token=AGF4DR4IKYJLAEG52HB5VUTA32GRQ', delimiter=\";\")\n",
        "evaluations_database = pd.read_csv('https://raw.githubusercontent.com/Raidenkyu/hermit-study/master/res/evaluations.csv?token=AGF4DRYA7SME7ALNJW4DYO3A32G5U', delimiter=\";\")"
      ],
      "execution_count": 46,
      "outputs": []
    },
    {
      "cell_type": "code",
      "metadata": {
        "colab": {
          "base_uri": "https://localhost:8080/",
          "height": 419
        },
        "id": "QMvZSEanmDjF",
        "outputId": "71a2e50a-67e6-4e60-d073-87276b418c16"
      },
      "source": [
        "projects_database"
      ],
      "execution_count": 47,
      "outputs": [
        {
          "output_type": "execute_result",
          "data": {
            "text/html": [
              "<div>\n",
              "<style scoped>\n",
              "    .dataframe tbody tr th:only-of-type {\n",
              "        vertical-align: middle;\n",
              "    }\n",
              "\n",
              "    .dataframe tbody tr th {\n",
              "        vertical-align: top;\n",
              "    }\n",
              "\n",
              "    .dataframe thead th {\n",
              "        text-align: right;\n",
              "    }\n",
              "</style>\n",
              "<table border=\"1\" class=\"dataframe\">\n",
              "  <thead>\n",
              "    <tr style=\"text-align: right;\">\n",
              "      <th></th>\n",
              "      <th>name</th>\n",
              "      <th>count</th>\n",
              "      <th>url</th>\n",
              "      <th>status</th>\n",
              "      <th>build</th>\n",
              "    </tr>\n",
              "  </thead>\n",
              "  <tbody>\n",
              "    <tr>\n",
              "      <th>0</th>\n",
              "      <td>huggingface/transformers</td>\n",
              "      <td>7</td>\n",
              "      <td>https://github.com/huggingface/transformers</td>\n",
              "      <td>discarded</td>\n",
              "      <td>NaN</td>\n",
              "    </tr>\n",
              "    <tr>\n",
              "      <th>1</th>\n",
              "      <td>home-assistant/core</td>\n",
              "      <td>2</td>\n",
              "      <td>https://github.com/home-assistant/core</td>\n",
              "      <td>discarded</td>\n",
              "      <td>NaN</td>\n",
              "    </tr>\n",
              "    <tr>\n",
              "      <th>2</th>\n",
              "      <td>DIYgod/RSSHub</td>\n",
              "      <td>1</td>\n",
              "      <td>https://github.com/DIYgod/RSSHub</td>\n",
              "      <td>accepted</td>\n",
              "      <td>successful</td>\n",
              "    </tr>\n",
              "    <tr>\n",
              "      <th>3</th>\n",
              "      <td>goldbergyoni/nodebestpractices</td>\n",
              "      <td>5</td>\n",
              "      <td>https://github.com/goldbergyoni/nodebestpractices</td>\n",
              "      <td>accepted</td>\n",
              "      <td>require-extra-steps</td>\n",
              "    </tr>\n",
              "    <tr>\n",
              "      <th>4</th>\n",
              "      <td>quantopian/zipline</td>\n",
              "      <td>2</td>\n",
              "      <td>https://github.com/quantopian/zipline</td>\n",
              "      <td>discarded</td>\n",
              "      <td>NaN</td>\n",
              "    </tr>\n",
              "    <tr>\n",
              "      <th>...</th>\n",
              "      <td>...</td>\n",
              "      <td>...</td>\n",
              "      <td>...</td>\n",
              "      <td>...</td>\n",
              "      <td>...</td>\n",
              "    </tr>\n",
              "    <tr>\n",
              "      <th>72</th>\n",
              "      <td>openstf/stf</td>\n",
              "      <td>4</td>\n",
              "      <td>https://github.com/openstf/stf</td>\n",
              "      <td>accepted</td>\n",
              "      <td>failed-build</td>\n",
              "    </tr>\n",
              "    <tr>\n",
              "      <th>73</th>\n",
              "      <td>liftoff/GateOne</td>\n",
              "      <td>1</td>\n",
              "      <td>https://github.com/liftoff/GateOne</td>\n",
              "      <td>discarded</td>\n",
              "      <td>NaN</td>\n",
              "    </tr>\n",
              "    <tr>\n",
              "      <th>74</th>\n",
              "      <td>schollz/howmanypeoplearearound</td>\n",
              "      <td>1</td>\n",
              "      <td>https://github.com/schollz/howmanypeoplearearound</td>\n",
              "      <td>accepted</td>\n",
              "      <td>failed-build</td>\n",
              "    </tr>\n",
              "    <tr>\n",
              "      <th>75</th>\n",
              "      <td>horovod/horovod</td>\n",
              "      <td>5</td>\n",
              "      <td>https://github.com/horovod/horovod</td>\n",
              "      <td>discarded</td>\n",
              "      <td>NaN</td>\n",
              "    </tr>\n",
              "    <tr>\n",
              "      <th>76</th>\n",
              "      <td>mailpile/Mailpile</td>\n",
              "      <td>3</td>\n",
              "      <td>https://github.com/mailpile/Mailpile</td>\n",
              "      <td>accepted</td>\n",
              "      <td>failed-build</td>\n",
              "    </tr>\n",
              "  </tbody>\n",
              "</table>\n",
              "<p>77 rows × 5 columns</p>\n",
              "</div>"
            ],
            "text/plain": [
              "                              name  count  ...     status                build\n",
              "0         huggingface/transformers      7  ...  discarded                  NaN\n",
              "1              home-assistant/core      2  ...  discarded                  NaN\n",
              "2                    DIYgod/RSSHub      1  ...   accepted           successful\n",
              "3   goldbergyoni/nodebestpractices      5  ...   accepted  require-extra-steps\n",
              "4               quantopian/zipline      2  ...  discarded                  NaN\n",
              "..                             ...    ...  ...        ...                  ...\n",
              "72                     openstf/stf      4  ...   accepted         failed-build\n",
              "73                 liftoff/GateOne      1  ...  discarded                  NaN\n",
              "74  schollz/howmanypeoplearearound      1  ...   accepted         failed-build\n",
              "75                 horovod/horovod      5  ...  discarded                  NaN\n",
              "76               mailpile/Mailpile      3  ...   accepted         failed-build\n",
              "\n",
              "[77 rows x 5 columns]"
            ]
          },
          "metadata": {
            "tags": []
          },
          "execution_count": 47
        }
      ]
    },
    {
      "cell_type": "code",
      "metadata": {
        "colab": {
          "base_uri": "https://localhost:8080/",
          "height": 1000
        },
        "id": "UQzIEHRNmJgj",
        "outputId": "1d4224f9-2d52-4d87-d4a1-12951b1c9555"
      },
      "source": [
        "evaluations_database"
      ],
      "execution_count": 48,
      "outputs": [
        {
          "output_type": "execute_result",
          "data": {
            "text/html": [
              "<div>\n",
              "<style scoped>\n",
              "    .dataframe tbody tr th:only-of-type {\n",
              "        vertical-align: middle;\n",
              "    }\n",
              "\n",
              "    .dataframe tbody tr th {\n",
              "        vertical-align: top;\n",
              "    }\n",
              "\n",
              "    .dataframe thead th {\n",
              "        text-align: right;\n",
              "    }\n",
              "</style>\n",
              "<table border=\"1\" class=\"dataframe\">\n",
              "  <thead>\n",
              "    <tr style=\"text-align: right;\">\n",
              "      <th></th>\n",
              "      <th>name</th>\n",
              "      <th>bloatRatio</th>\n",
              "      <th>missedDependencies</th>\n",
              "      <th>balance</th>\n",
              "      <th>ports</th>\n",
              "      <th>risk</th>\n",
              "      <th>entrypoint</th>\n",
              "    </tr>\n",
              "  </thead>\n",
              "  <tbody>\n",
              "    <tr>\n",
              "      <th>0</th>\n",
              "      <td>athena</td>\n",
              "      <td>0.0</td>\n",
              "      <td>0.0</td>\n",
              "      <td>0</td>\n",
              "      <td>NaN</td>\n",
              "      <td>0</td>\n",
              "      <td>70.6</td>\n",
              "    </tr>\n",
              "    <tr>\n",
              "      <th>1</th>\n",
              "      <td>cowait</td>\n",
              "      <td>0.0</td>\n",
              "      <td>36.5</td>\n",
              "      <td>3771</td>\n",
              "      <td>NaN</td>\n",
              "      <td>0</td>\n",
              "      <td>100.0</td>\n",
              "    </tr>\n",
              "    <tr>\n",
              "      <th>2</th>\n",
              "      <td>vulcan</td>\n",
              "      <td>0.0</td>\n",
              "      <td>0.0</td>\n",
              "      <td>0</td>\n",
              "      <td>NaN</td>\n",
              "      <td>0</td>\n",
              "      <td>70.6</td>\n",
              "    </tr>\n",
              "    <tr>\n",
              "      <th>3</th>\n",
              "      <td>newTrackon</td>\n",
              "      <td>93.6</td>\n",
              "      <td>17.0</td>\n",
              "      <td>3635</td>\n",
              "      <td>100.0</td>\n",
              "      <td>0</td>\n",
              "      <td>100.0</td>\n",
              "    </tr>\n",
              "    <tr>\n",
              "      <th>4</th>\n",
              "      <td>sherlock</td>\n",
              "      <td>72.5</td>\n",
              "      <td>42.9</td>\n",
              "      <td>877454</td>\n",
              "      <td>NaN</td>\n",
              "      <td>0</td>\n",
              "      <td>100.0</td>\n",
              "    </tr>\n",
              "    <tr>\n",
              "      <th>5</th>\n",
              "      <td>k8s-sidecar</td>\n",
              "      <td>92.2</td>\n",
              "      <td>38.0</td>\n",
              "      <td>0</td>\n",
              "      <td>NaN</td>\n",
              "      <td>0</td>\n",
              "      <td>100.0</td>\n",
              "    </tr>\n",
              "    <tr>\n",
              "      <th>6</th>\n",
              "      <td>commuter</td>\n",
              "      <td>52.4</td>\n",
              "      <td>0.0</td>\n",
              "      <td>0</td>\n",
              "      <td>NaN</td>\n",
              "      <td>0</td>\n",
              "      <td>0.0</td>\n",
              "    </tr>\n",
              "    <tr>\n",
              "      <th>7</th>\n",
              "      <td>pipenv</td>\n",
              "      <td>21.5</td>\n",
              "      <td>84.7</td>\n",
              "      <td>56081719</td>\n",
              "      <td>NaN</td>\n",
              "      <td>0</td>\n",
              "      <td>100.0</td>\n",
              "    </tr>\n",
              "    <tr>\n",
              "      <th>8</th>\n",
              "      <td>RSSHub</td>\n",
              "      <td>27.1</td>\n",
              "      <td>1.1</td>\n",
              "      <td>18432</td>\n",
              "      <td>100.0</td>\n",
              "      <td>0</td>\n",
              "      <td>70.6</td>\n",
              "    </tr>\n",
              "    <tr>\n",
              "      <th>9</th>\n",
              "      <td>ZeroNet</td>\n",
              "      <td>97.4</td>\n",
              "      <td>1.3</td>\n",
              "      <td>-1256702</td>\n",
              "      <td>100.0</td>\n",
              "      <td>0</td>\n",
              "      <td>100.0</td>\n",
              "    </tr>\n",
              "    <tr>\n",
              "      <th>10</th>\n",
              "      <td>gitlab-semantic-versioning</td>\n",
              "      <td>4.0</td>\n",
              "      <td>47.4</td>\n",
              "      <td>8988389</td>\n",
              "      <td>NaN</td>\n",
              "      <td>0</td>\n",
              "      <td>100.0</td>\n",
              "    </tr>\n",
              "    <tr>\n",
              "      <th>11</th>\n",
              "      <td>findmeaflat</td>\n",
              "      <td>88.8</td>\n",
              "      <td>0.0</td>\n",
              "      <td>0</td>\n",
              "      <td>NaN</td>\n",
              "      <td>0</td>\n",
              "      <td>0.0</td>\n",
              "    </tr>\n",
              "    <tr>\n",
              "      <th>12</th>\n",
              "      <td>hackathon-starter</td>\n",
              "      <td>63.2</td>\n",
              "      <td>0.0</td>\n",
              "      <td>906</td>\n",
              "      <td>100.0</td>\n",
              "      <td>0</td>\n",
              "      <td>100.0</td>\n",
              "    </tr>\n",
              "    <tr>\n",
              "      <th>13</th>\n",
              "      <td>face_recognition</td>\n",
              "      <td>24.3</td>\n",
              "      <td>67.2</td>\n",
              "      <td>-9459986</td>\n",
              "      <td>NaN</td>\n",
              "      <td>0</td>\n",
              "      <td>100.0</td>\n",
              "    </tr>\n",
              "    <tr>\n",
              "      <th>14</th>\n",
              "      <td>bookdb</td>\n",
              "      <td>0.0</td>\n",
              "      <td>78.4</td>\n",
              "      <td>3905</td>\n",
              "      <td>NaN</td>\n",
              "      <td>0</td>\n",
              "      <td>100.0</td>\n",
              "    </tr>\n",
              "    <tr>\n",
              "      <th>15</th>\n",
              "      <td>gun</td>\n",
              "      <td>87.6</td>\n",
              "      <td>0.0</td>\n",
              "      <td>0</td>\n",
              "      <td>100.0</td>\n",
              "      <td>0</td>\n",
              "      <td>100.0</td>\n",
              "    </tr>\n",
              "    <tr>\n",
              "      <th>16</th>\n",
              "      <td>simple-icons</td>\n",
              "      <td>84.1</td>\n",
              "      <td>0.0</td>\n",
              "      <td>8534913</td>\n",
              "      <td>NaN</td>\n",
              "      <td>0</td>\n",
              "      <td>100.0</td>\n",
              "    </tr>\n",
              "    <tr>\n",
              "      <th>17</th>\n",
              "      <td>nodebestpractices</td>\n",
              "      <td>84.8</td>\n",
              "      <td>0.0</td>\n",
              "      <td>-845246</td>\n",
              "      <td>100.0</td>\n",
              "      <td>0</td>\n",
              "      <td>9.5</td>\n",
              "    </tr>\n",
              "    <tr>\n",
              "      <th>18</th>\n",
              "      <td>ansible</td>\n",
              "      <td>49.2</td>\n",
              "      <td>72.2</td>\n",
              "      <td>31102815</td>\n",
              "      <td>NaN</td>\n",
              "      <td>0</td>\n",
              "      <td>0.0</td>\n",
              "    </tr>\n",
              "    <tr>\n",
              "      <th>19</th>\n",
              "      <td>proxy_pool</td>\n",
              "      <td>94.7</td>\n",
              "      <td>18.1</td>\n",
              "      <td>-119710</td>\n",
              "      <td>100.0</td>\n",
              "      <td>0</td>\n",
              "      <td>0.0</td>\n",
              "    </tr>\n",
              "    <tr>\n",
              "      <th>20</th>\n",
              "      <td>parse-server</td>\n",
              "      <td>78.1</td>\n",
              "      <td>0.0</td>\n",
              "      <td>0</td>\n",
              "      <td>100.0</td>\n",
              "      <td>0</td>\n",
              "      <td>7.1</td>\n",
              "    </tr>\n",
              "    <tr>\n",
              "      <th>21</th>\n",
              "      <td>NodeBB</td>\n",
              "      <td>0.0</td>\n",
              "      <td>0.0</td>\n",
              "      <td>0</td>\n",
              "      <td>100.0</td>\n",
              "      <td>0</td>\n",
              "      <td>19.5</td>\n",
              "    </tr>\n",
              "    <tr>\n",
              "      <th>22</th>\n",
              "      <td>sampleo</td>\n",
              "      <td>37.6</td>\n",
              "      <td>65.1</td>\n",
              "      <td>44387964</td>\n",
              "      <td>NaN</td>\n",
              "      <td>0</td>\n",
              "      <td>100.0</td>\n",
              "    </tr>\n",
              "    <tr>\n",
              "      <th>23</th>\n",
              "      <td>auto-generate-changelog</td>\n",
              "      <td>0.0</td>\n",
              "      <td>47.1</td>\n",
              "      <td>3373878</td>\n",
              "      <td>NaN</td>\n",
              "      <td>0</td>\n",
              "      <td>100.0</td>\n",
              "    </tr>\n",
              "    <tr>\n",
              "      <th>24</th>\n",
              "      <td>api</td>\n",
              "      <td>0.0</td>\n",
              "      <td>0.0</td>\n",
              "      <td>0</td>\n",
              "      <td>NaN</td>\n",
              "      <td>0</td>\n",
              "      <td>70.6</td>\n",
              "    </tr>\n",
              "    <tr>\n",
              "      <th>25</th>\n",
              "      <td>linuxkit-logger</td>\n",
              "      <td>74.6</td>\n",
              "      <td>0.0</td>\n",
              "      <td>-940191</td>\n",
              "      <td>NaN</td>\n",
              "      <td>0</td>\n",
              "      <td>72.7</td>\n",
              "    </tr>\n",
              "    <tr>\n",
              "      <th>26</th>\n",
              "      <td>immer</td>\n",
              "      <td>36.4</td>\n",
              "      <td>22.6</td>\n",
              "      <td>30023359</td>\n",
              "      <td>100.0</td>\n",
              "      <td>0</td>\n",
              "      <td>100.0</td>\n",
              "    </tr>\n",
              "    <tr>\n",
              "      <th>27</th>\n",
              "      <td>locust</td>\n",
              "      <td>0.0</td>\n",
              "      <td>78.5</td>\n",
              "      <td>0</td>\n",
              "      <td>100.0</td>\n",
              "      <td>0</td>\n",
              "      <td>100.0</td>\n",
              "    </tr>\n",
              "    <tr>\n",
              "      <th>28</th>\n",
              "      <td>tracker</td>\n",
              "      <td>84.8</td>\n",
              "      <td>0.0</td>\n",
              "      <td>8867418</td>\n",
              "      <td>100.0</td>\n",
              "      <td>0</td>\n",
              "      <td>100.0</td>\n",
              "    </tr>\n",
              "    <tr>\n",
              "      <th>29</th>\n",
              "      <td>ranger</td>\n",
              "      <td>72.7</td>\n",
              "      <td>12.1</td>\n",
              "      <td>0</td>\n",
              "      <td>NaN</td>\n",
              "      <td>0</td>\n",
              "      <td>100.0</td>\n",
              "    </tr>\n",
              "    <tr>\n",
              "      <th>30</th>\n",
              "      <td>hyperion</td>\n",
              "      <td>0.0</td>\n",
              "      <td>0.0</td>\n",
              "      <td>0</td>\n",
              "      <td>NaN</td>\n",
              "      <td>0</td>\n",
              "      <td>70.6</td>\n",
              "    </tr>\n",
              "    <tr>\n",
              "      <th>31</th>\n",
              "      <td>hermes</td>\n",
              "      <td>0.0</td>\n",
              "      <td>0.0</td>\n",
              "      <td>0</td>\n",
              "      <td>NaN</td>\n",
              "      <td>0</td>\n",
              "      <td>70.6</td>\n",
              "    </tr>\n",
              "    <tr>\n",
              "      <th>32</th>\n",
              "      <td>juice-shop</td>\n",
              "      <td>53.4</td>\n",
              "      <td>0.0</td>\n",
              "      <td>0</td>\n",
              "      <td>100.0</td>\n",
              "      <td>0</td>\n",
              "      <td>100.0</td>\n",
              "    </tr>\n",
              "    <tr>\n",
              "      <th>33</th>\n",
              "      <td>shields</td>\n",
              "      <td>77.6</td>\n",
              "      <td>0.0</td>\n",
              "      <td>906</td>\n",
              "      <td>100.0</td>\n",
              "      <td>0</td>\n",
              "      <td>0.0</td>\n",
              "    </tr>\n",
              "    <tr>\n",
              "      <th>34</th>\n",
              "      <td>twint</td>\n",
              "      <td>16.7</td>\n",
              "      <td>47.1</td>\n",
              "      <td>-119710</td>\n",
              "      <td>NaN</td>\n",
              "      <td>0</td>\n",
              "      <td>100.0</td>\n",
              "    </tr>\n",
              "    <tr>\n",
              "      <th>35</th>\n",
              "      <td>juice-shop-ctf</td>\n",
              "      <td>86.8</td>\n",
              "      <td>0.0</td>\n",
              "      <td>0</td>\n",
              "      <td>NaN</td>\n",
              "      <td>0</td>\n",
              "      <td>100.0</td>\n",
              "    </tr>\n",
              "    <tr>\n",
              "      <th>36</th>\n",
              "      <td>dockercron</td>\n",
              "      <td>68.5</td>\n",
              "      <td>40.6</td>\n",
              "      <td>40908687</td>\n",
              "      <td>100.0</td>\n",
              "      <td>0</td>\n",
              "      <td>0.0</td>\n",
              "    </tr>\n",
              "    <tr>\n",
              "      <th>37</th>\n",
              "      <td>cookiecutter-flask</td>\n",
              "      <td>0.0</td>\n",
              "      <td>8.2</td>\n",
              "      <td>772122</td>\n",
              "      <td>NaN</td>\n",
              "      <td>0</td>\n",
              "      <td>100.0</td>\n",
              "    </tr>\n",
              "    <tr>\n",
              "      <th>38</th>\n",
              "      <td>glances</td>\n",
              "      <td>0.0</td>\n",
              "      <td>67.6</td>\n",
              "      <td>3635</td>\n",
              "      <td>100.0</td>\n",
              "      <td>0</td>\n",
              "      <td>100.0</td>\n",
              "    </tr>\n",
              "    <tr>\n",
              "      <th>39</th>\n",
              "      <td>chronos</td>\n",
              "      <td>0.0</td>\n",
              "      <td>0.0</td>\n",
              "      <td>0</td>\n",
              "      <td>NaN</td>\n",
              "      <td>0</td>\n",
              "      <td>70.6</td>\n",
              "    </tr>\n",
              "  </tbody>\n",
              "</table>\n",
              "</div>"
            ],
            "text/plain": [
              "                          name  bloatRatio  ...  risk  entrypoint\n",
              "0                       athena         0.0  ...     0        70.6\n",
              "1                       cowait         0.0  ...     0       100.0\n",
              "2                       vulcan         0.0  ...     0        70.6\n",
              "3                   newTrackon        93.6  ...     0       100.0\n",
              "4                     sherlock        72.5  ...     0       100.0\n",
              "5                  k8s-sidecar        92.2  ...     0       100.0\n",
              "6                     commuter        52.4  ...     0         0.0\n",
              "7                       pipenv        21.5  ...     0       100.0\n",
              "8                       RSSHub        27.1  ...     0        70.6\n",
              "9                      ZeroNet        97.4  ...     0       100.0\n",
              "10  gitlab-semantic-versioning         4.0  ...     0       100.0\n",
              "11                 findmeaflat        88.8  ...     0         0.0\n",
              "12           hackathon-starter        63.2  ...     0       100.0\n",
              "13            face_recognition        24.3  ...     0       100.0\n",
              "14                      bookdb         0.0  ...     0       100.0\n",
              "15                         gun        87.6  ...     0       100.0\n",
              "16                simple-icons        84.1  ...     0       100.0\n",
              "17           nodebestpractices        84.8  ...     0         9.5\n",
              "18                     ansible        49.2  ...     0         0.0\n",
              "19                  proxy_pool        94.7  ...     0         0.0\n",
              "20                parse-server        78.1  ...     0         7.1\n",
              "21                      NodeBB         0.0  ...     0        19.5\n",
              "22                     sampleo        37.6  ...     0       100.0\n",
              "23     auto-generate-changelog         0.0  ...     0       100.0\n",
              "24                         api         0.0  ...     0        70.6\n",
              "25             linuxkit-logger        74.6  ...     0        72.7\n",
              "26                       immer        36.4  ...     0       100.0\n",
              "27                      locust         0.0  ...     0       100.0\n",
              "28                     tracker        84.8  ...     0       100.0\n",
              "29                      ranger        72.7  ...     0       100.0\n",
              "30                    hyperion         0.0  ...     0        70.6\n",
              "31                      hermes         0.0  ...     0        70.6\n",
              "32                  juice-shop        53.4  ...     0       100.0\n",
              "33                     shields        77.6  ...     0         0.0\n",
              "34                       twint        16.7  ...     0       100.0\n",
              "35              juice-shop-ctf        86.8  ...     0       100.0\n",
              "36                  dockercron        68.5  ...     0         0.0\n",
              "37          cookiecutter-flask         0.0  ...     0       100.0\n",
              "38                     glances         0.0  ...     0       100.0\n",
              "39                     chronos         0.0  ...     0        70.6\n",
              "\n",
              "[40 rows x 7 columns]"
            ]
          },
          "metadata": {
            "tags": []
          },
          "execution_count": 48
        }
      ]
    },
    {
      "cell_type": "code",
      "metadata": {
        "colab": {
          "base_uri": "https://localhost:8080/",
          "height": 482
        },
        "id": "b36Il39wl3IP",
        "outputId": "ddceb81e-ac8f-4244-d7df-e1f26ae73bae"
      },
      "source": [
        "status_count = projects_database.groupby('status').count()\n",
        "status_count.plot.pie(y='count', figsize=(6, 6), autopct='%1.1f%%')\n",
        "status_count.drop(columns=['name', 'url', 'build'])"
      ],
      "execution_count": 49,
      "outputs": [
        {
          "output_type": "execute_result",
          "data": {
            "text/html": [
              "<div>\n",
              "<style scoped>\n",
              "    .dataframe tbody tr th:only-of-type {\n",
              "        vertical-align: middle;\n",
              "    }\n",
              "\n",
              "    .dataframe tbody tr th {\n",
              "        vertical-align: top;\n",
              "    }\n",
              "\n",
              "    .dataframe thead th {\n",
              "        text-align: right;\n",
              "    }\n",
              "</style>\n",
              "<table border=\"1\" class=\"dataframe\">\n",
              "  <thead>\n",
              "    <tr style=\"text-align: right;\">\n",
              "      <th></th>\n",
              "      <th>count</th>\n",
              "    </tr>\n",
              "    <tr>\n",
              "      <th>status</th>\n",
              "      <th></th>\n",
              "    </tr>\n",
              "  </thead>\n",
              "  <tbody>\n",
              "    <tr>\n",
              "      <th>accepted</th>\n",
              "      <td>58</td>\n",
              "    </tr>\n",
              "    <tr>\n",
              "      <th>discarded</th>\n",
              "      <td>18</td>\n",
              "    </tr>\n",
              "  </tbody>\n",
              "</table>\n",
              "</div>"
            ],
            "text/plain": [
              "           count\n",
              "status          \n",
              "accepted      58\n",
              "discarded     18"
            ]
          },
          "metadata": {
            "tags": []
          },
          "execution_count": 49
        },
        {
          "output_type": "display_data",
          "data": {
            "image/png": "[encoded data removed]",
            "text/plain": [
              "<Figure size 432x432 with 1 Axes>"
            ]
          },
          "metadata": {
            "tags": []
          }
        }
      ]
    },
    {
      "cell_type": "code",
      "metadata": {
        "colab": {
          "base_uri": "https://localhost:8080/",
          "height": 513
        },
        "id": "Wb5f7HxemUVg",
        "outputId": "22deabe9-a926-41cc-b32d-0f42c705041d"
      },
      "source": [
        "status_count = projects_database.groupby('build').count()\n",
        "status_count.plot.pie(y='count', figsize=(6, 6), autopct='%1.1f%%')\n",
        "status_count.drop(columns=['name', 'url', 'status'])"
      ],
      "execution_count": 50,
      "outputs": [
        {
          "output_type": "execute_result",
          "data": {
            "text/html": [
              "<div>\n",
              "<style scoped>\n",
              "    .dataframe tbody tr th:only-of-type {\n",
              "        vertical-align: middle;\n",
              "    }\n",
              "\n",
              "    .dataframe tbody tr th {\n",
              "        vertical-align: top;\n",
              "    }\n",
              "\n",
              "    .dataframe thead th {\n",
              "        text-align: right;\n",
              "    }\n",
              "</style>\n",
              "<table border=\"1\" class=\"dataframe\">\n",
              "  <thead>\n",
              "    <tr style=\"text-align: right;\">\n",
              "      <th></th>\n",
              "      <th>count</th>\n",
              "    </tr>\n",
              "    <tr>\n",
              "      <th>build</th>\n",
              "      <th></th>\n",
              "    </tr>\n",
              "  </thead>\n",
              "  <tbody>\n",
              "    <tr>\n",
              "      <th>failed-build</th>\n",
              "      <td>17</td>\n",
              "    </tr>\n",
              "    <tr>\n",
              "      <th>require-extra-steps</th>\n",
              "      <td>1</td>\n",
              "    </tr>\n",
              "    <tr>\n",
              "      <th>successful</th>\n",
              "      <td>41</td>\n",
              "    </tr>\n",
              "  </tbody>\n",
              "</table>\n",
              "</div>"
            ],
            "text/plain": [
              "                     count\n",
              "build                     \n",
              "failed-build            17\n",
              "require-extra-steps      1\n",
              "successful              41"
            ]
          },
          "metadata": {
            "tags": []
          },
          "execution_count": 50
        },
        {
          "output_type": "display_data",
          "data": {
            "image/png": "[encoded data removed]",
            "text/plain": [
              "<Figure size 432x432 with 1 Axes>"
            ]
          },
          "metadata": {
            "tags": []
          }
        }
      ]
    },
    {
      "cell_type": "code",
      "metadata": {
        "id": "eSISkCduvtCT"
      },
      "source": [
        "def calculate_statistics(column):\n",
        "  min = column.quantile(0.0)\n",
        "  q1 = column.quantile(0.25)\n",
        "  q2 = column.quantile(0.50)\n",
        "  q3 = column.quantile(0.75)\n",
        "  max = column.quantile(1.0)\n",
        "  \n",
        "  iqr = q3 - q1\n",
        "  lb = q1 - (1.5 * iqr)\n",
        "  ub = q3 + (1.5 * iqr)\n",
        "\n",
        "  mean = column.mean()\n",
        "  std = column.std()\n",
        "\n",
        "  return min, q1, q2, q3, max, iqr, lb, ub, mean, std"
      ],
      "execution_count": 51,
      "outputs": []
    },
    {
      "cell_type": "code",
      "metadata": {
        "id": "TmyYRYtjzskx"
      },
      "source": [
        "renamed_evaluations = evaluations_database.rename(columns={\n",
        "    'bloatRatio': 'Bloat Ratio',\n",
        "    'missedDependencies': 'Missed Dependencies Ratio',\n",
        "    'balance':'Balance',\n",
        "    'ports': 'Ports Detection Accuracy',\n",
        "    'risk': 'Risk Percentage',\n",
        "    'entrypoint': 'Entrypoint Similarity'\n",
        "})"
      ],
      "execution_count": 52,
      "outputs": []
    },
    {
      "cell_type": "code",
      "metadata": {
        "id": "bh_Bdb53wvTp",
        "colab": {
          "base_uri": "https://localhost:8080/",
          "height": 507
        },
        "outputId": "ef1c84ae-5aa2-4bd9-8454-c1654a0668f3"
      },
      "source": [
        "# Bloat Ratio\n",
        "\n",
        "min, q1, q2, q3, max, iqr, lb, ub, mean, std = calculate_statistics(evaluations_database['bloatRatio'])\n",
        "\n",
        "print(f\"Mean Bloat Ratio: {mean} %\")\n",
        "print(f\"Min: {min}\")\n",
        "print(f\"LB: {lb}\")\n",
        "print(f\"Q1: {q1}\")\n",
        "print(f\"Q2: {q2}\")\n",
        "print(f\"Q3: {q3}\")\n",
        "print(f\"UB: {ub}\")\n",
        "print(f\"Max: {max}\")\n",
        "print(f\"IQR: {iqr}\")\n",
        "print(f\"Standard Deviation: {std}\")\n",
        "\n",
        "renamed_evaluations.boxplot(column=['Bloat Ratio'], figsize=(5, 5))"
      ],
      "execution_count": 53,
      "outputs": [
        {
          "output_type": "stream",
          "text": [
            "Mean Bloat Ratio: 43.114999999999995 %\n",
            "Min: 0.0\n",
            "LB: -119.39999999999999\n",
            "Q1: 0.0\n",
            "Q2: 43.400000000000006\n",
            "Q3: 79.6\n",
            "UB: 199.0\n",
            "Max: 97.4\n",
            "IQR: 79.6\n",
            "Standard Deviation: 37.7787523378569\n"
          ],
          "name": "stdout"
        },
        {
          "output_type": "execute_result",
          "data": {
            "text/plain": [
              "<matplotlib.axes._subplots.AxesSubplot at 0x7f241e4bd5d0>"
            ]
          },
          "metadata": {
            "tags": []
          },
          "execution_count": 53
        },
        {
          "output_type": "display_data",
          "data": {
            "image/png": "[encoded data removed]",
            "text/plain": [
              "<Figure size 360x360 with 1 Axes>"
            ]
          },
          "metadata": {
            "tags": [],
            "needs_background": "light"
          }
        }
      ]
    },
    {
      "cell_type": "code",
      "metadata": {
        "id": "_URigaHFxxjI",
        "colab": {
          "base_uri": "https://localhost:8080/",
          "height": 507
        },
        "outputId": "cac690f9-7f69-490b-cffb-f3cce2c8e6aa"
      },
      "source": [
        "# Missed Dependencies Ratio\n",
        "\n",
        "min, q1, q2, q3, max, iqr, lb, ub, mean, std = calculate_statistics(evaluations_database['missedDependencies'])\n",
        "\n",
        "print(f\"Mean Missed Dependencies Ratio: {mean} %\")\n",
        "print(f\"Min: {min}\")\n",
        "print(f\"LB: {lb}\")\n",
        "print(f\"Q1: {q1}\")\n",
        "print(f\"Q2: {q2}\")\n",
        "print(f\"Q3: {q3}\")\n",
        "print(f\"UB: {ub}\")\n",
        "print(f\"Max: {max}\")\n",
        "print(f\"IQR: {iqr}\")\n",
        "print(f\"Standard Deviation: {std}\")\n",
        "\n",
        "renamed_evaluations.boxplot(column=['Missed Dependencies Ratio'], figsize=(5, 5))"
      ],
      "execution_count": 54,
      "outputs": [
        {
          "output_type": "stream",
          "text": [
            "Mean Missed Dependencies Ratio: 22.342500000000005 %\n",
            "Min: 0.0\n",
            "LB: -65.925\n",
            "Q1: 0.0\n",
            "Q2: 1.2000000000000002\n",
            "Q3: 43.949999999999996\n",
            "UB: 109.875\n",
            "Max: 84.7\n",
            "IQR: 43.949999999999996\n",
            "Standard Deviation: 28.798316256871157\n"
          ],
          "name": "stdout"
        },
        {
          "output_type": "execute_result",
          "data": {
            "text/plain": [
              "<matplotlib.axes._subplots.AxesSubplot at 0x7f241e099110>"
            ]
          },
          "metadata": {
            "tags": []
          },
          "execution_count": 54
        },
        {
          "output_type": "display_data",
          "data": {
            "image/png": "[encoded data removed]",
            "text/plain": [
              "<Figure size 360x360 with 1 Axes>"
            ]
          },
          "metadata": {
            "tags": [],
            "needs_background": "light"
          }
        }
      ]
    },
    {
      "cell_type": "code",
      "metadata": {
        "id": "jWj35hyNx5Ud",
        "colab": {
          "base_uri": "https://localhost:8080/",
          "height": 518
        },
        "outputId": "76b34897-709d-4916-b462-f23e49404acb"
      },
      "source": [
        "# Balance\n",
        "\n",
        "min, q1, q2, q3, max, iqr, lb, ub, mean, std = calculate_statistics(evaluations_database['balance'])\n",
        "\n",
        "print(f\"Mean Balance: {mean / 1000000} MB\")\n",
        "print(f\"Min: {min / 1000000}\")\n",
        "print(f\"LB: {lb / 1000000}\")\n",
        "print(f\"Q1: {q1 / 1000000}\")\n",
        "print(f\"Q2: {q2 / 1000000}\")\n",
        "print(f\"Q3: {q3 / 1000000}\")\n",
        "print(f\"UB: {ub / 1000000}\")\n",
        "print(f\"Max: {max / 1000000}\")\n",
        "print(f\"IQR: {iqr / 1000000}\")\n",
        "print(f\"Standard Deviation: {std / 1000000}\")\n",
        "\n",
        "renamed_evaluations.boxplot(column=['Balance'], figsize=(5, 5))"
      ],
      "execution_count": 55,
      "outputs": [
        {
          "output_type": "stream",
          "text": [
            "Mean Balance: 5.530309075 MB\n",
            "Min: -9.459986\n",
            "LB: -1.1976825\n",
            "Q1: 0.0\n",
            "Q2: 0.0\n",
            "Q3: 0.798455\n",
            "UB: 1.9961375\n",
            "Max: 56.081719\n",
            "IQR: 0.798455\n",
            "Standard Deviation: 14.11682020623565\n"
          ],
          "name": "stdout"
        },
        {
          "output_type": "execute_result",
          "data": {
            "text/plain": [
              "<matplotlib.axes._subplots.AxesSubplot at 0x7f241e0cba90>"
            ]
          },
          "metadata": {
            "tags": []
          },
          "execution_count": 55
        },
        {
          "output_type": "display_data",
          "data": {
            "image/png": "[encoded data removed]",
            "text/plain": [
              "<Figure size 360x360 with 1 Axes>"
            ]
          },
          "metadata": {
            "tags": [],
            "needs_background": "light"
          }
        }
      ]
    },
    {
      "cell_type": "code",
      "metadata": {
        "id": "R-6uSJMCyUWd",
        "colab": {
          "base_uri": "https://localhost:8080/",
          "height": 507
        },
        "outputId": "96b44448-3ff1-488b-c954-22100a2b2cce"
      },
      "source": [
        "# Ports Detection Accuracy\n",
        "\n",
        "min, q1, q2, q3, max, iqr, lb, ub, mean, std = calculate_statistics(evaluations_database['ports'].dropna())\n",
        "\n",
        "print(f\"Mean Ports Detection Accuracy: {mean} %\")\n",
        "print(f\"Min: {min}\")\n",
        "print(f\"LB: {lb}\")\n",
        "print(f\"Q1: {q1}\")\n",
        "print(f\"Q2: {q2}\")\n",
        "print(f\"Q3: {q3}\")\n",
        "print(f\"UB: {ub}\")\n",
        "print(f\"Max: {max}\")\n",
        "print(f\"IQR: {iqr}\")\n",
        "print(f\"Standard Deviation: {std}\")\n",
        "\n",
        "renamed_evaluations.boxplot(column=['Ports Detection Accuracy'], figsize=(5, 5))"
      ],
      "execution_count": 56,
      "outputs": [
        {
          "output_type": "stream",
          "text": [
            "Mean Ports Detection Accuracy: 100.0 %\n",
            "Min: 100.0\n",
            "LB: 100.0\n",
            "Q1: 100.0\n",
            "Q2: 100.0\n",
            "Q3: 100.0\n",
            "UB: 100.0\n",
            "Max: 100.0\n",
            "IQR: 0.0\n",
            "Standard Deviation: 0.0\n"
          ],
          "name": "stdout"
        },
        {
          "output_type": "execute_result",
          "data": {
            "text/plain": [
              "<matplotlib.axes._subplots.AxesSubplot at 0x7f241e44a310>"
            ]
          },
          "metadata": {
            "tags": []
          },
          "execution_count": 56
        },
        {
          "output_type": "display_data",
          "data": {
            "image/png": "[encoded data removed]",
            "text/plain": [
              "<Figure size 360x360 with 1 Axes>"
            ]
          },
          "metadata": {
            "tags": [],
            "needs_background": "light"
          }
        }
      ]
    },
    {
      "cell_type": "code",
      "metadata": {
        "id": "oIxF_YorzIHb",
        "colab": {
          "base_uri": "https://localhost:8080/",
          "height": 507
        },
        "outputId": "5f13f4e1-b135-4112-d792-c65bf298f14e"
      },
      "source": [
        "# Risk Percentage\n",
        "\n",
        "min, q1, q2, q3, max, iqr, lb, ub, mean, std = calculate_statistics(evaluations_database['risk'])\n",
        "\n",
        "print(f\"Mean Risk Percentage: {mean} %\")\n",
        "print(f\"Min: {min}\")\n",
        "print(f\"LB: {lb}\")\n",
        "print(f\"Q1: {q1}\")\n",
        "print(f\"Q2: {q2}\")\n",
        "print(f\"Q3: {q3}\")\n",
        "print(f\"UB: {ub}\")\n",
        "print(f\"Max: {max}\")\n",
        "print(f\"IQR: {iqr}\")\n",
        "print(f\"Standard Deviation: {std}\")\n",
        "\n",
        "renamed_evaluations.boxplot(column=['Risk Percentage'], figsize=(5, 5))"
      ],
      "execution_count": 57,
      "outputs": [
        {
          "output_type": "stream",
          "text": [
            "Mean Risk Percentage: 0.0 %\n",
            "Min: 0.0\n",
            "LB: 0.0\n",
            "Q1: 0.0\n",
            "Q2: 0.0\n",
            "Q3: 0.0\n",
            "UB: 0.0\n",
            "Max: 0.0\n",
            "IQR: 0.0\n",
            "Standard Deviation: 0.0\n"
          ],
          "name": "stdout"
        },
        {
          "output_type": "execute_result",
          "data": {
            "text/plain": [
              "<matplotlib.axes._subplots.AxesSubplot at 0x7f241df6b250>"
            ]
          },
          "metadata": {
            "tags": []
          },
          "execution_count": 57
        },
        {
          "output_type": "display_data",
          "data": {
            "image/png": "[encoded data removed]",
            "text/plain": [
              "<Figure size 360x360 with 1 Axes>"
            ]
          },
          "metadata": {
            "tags": [],
            "needs_background": "light"
          }
        }
      ]
    },
    {
      "cell_type": "code",
      "metadata": {
        "id": "1m8qHqeQzRDA",
        "colab": {
          "base_uri": "https://localhost:8080/",
          "height": 507
        },
        "outputId": "86a46a33-3a76-4405-b677-6ca92080d7e3"
      },
      "source": [
        "# Entrypoint Similarity\n",
        "\n",
        "min, q1, q2, q3, max, iqr, lb, ub, mean, std = calculate_statistics(evaluations_database['entrypoint'])\n",
        "\n",
        "print(f\"Mean Entrypoint Similarity: {mean} %\")\n",
        "print(f\"Min: {min}\")\n",
        "print(f\"LB: {lb}\")\n",
        "print(f\"Q1: {q1}\")\n",
        "print(f\"Q2: {q2}\")\n",
        "print(f\"Q3: {q3}\")\n",
        "print(f\"UB: {ub}\")\n",
        "print(f\"Max: {max}\")\n",
        "print(f\"IQR: {iqr}\")\n",
        "print(f\"Standard Deviation: {std}\")\n",
        "\n",
        "renamed_evaluations.boxplot(column=['Entrypoint Similarity'], figsize=(5, 5))"
      ],
      "execution_count": 58,
      "outputs": [
        {
          "output_type": "stream",
          "text": [
            "Mean Entrypoint Similarity: 72.57499999999999 %\n",
            "Min: 0.0\n",
            "LB: 26.499999999999986\n",
            "Q1: 70.6\n",
            "Q2: 100.0\n",
            "Q3: 100.0\n",
            "UB: 144.10000000000002\n",
            "Max: 100.0\n",
            "IQR: 29.400000000000006\n",
            "Standard Deviation: 39.22698410598604\n"
          ],
          "name": "stdout"
        },
        {
          "output_type": "execute_result",
          "data": {
            "text/plain": [
              "<matplotlib.axes._subplots.AxesSubplot at 0x7f241ded8cd0>"
            ]
          },
          "metadata": {
            "tags": []
          },
          "execution_count": 58
        },
        {
          "output_type": "display_data",
          "data": {
            "image/png": "[encoded data removed]",
            "text/plain": [
              "<Figure size 360x360 with 1 Axes>"
            ]
          },
          "metadata": {
            "tags": [],
            "needs_background": "light"
          }
        }
      ]
    }
  ]
}