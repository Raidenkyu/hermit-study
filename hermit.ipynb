{
  "nbformat": 4,
  "nbformat_minor": 0,
  "metadata": {
    "colab": {
      "name": "hermit.ipynb",
      "provenance": [],
      "collapsed_sections": [],
      "mount_file_id": "1bjaQNN_ivq8tV9qz_woWvVeNbmcSMdf9",
      "authorship_tag": "ABX9TyNlOcTVosIWbMsFFILnqftV",
      "include_colab_link": true
    },
    "kernelspec": {
      "name": "python3",
      "display_name": "Python 3"
    },
    "language_info": {
      "name": "python"
    }
  },
  "cells": [
    {
      "cell_type": "markdown",
      "metadata": {
        "id": "view-in-github",
        "colab_type": "text"
      },
      "source": [
        "<a href=\"https://colab.research.google.com/github/Raidenkyu/hermit-study/blob/master/hermit.ipynb\" target=\"_parent\"><img src=\"https://colab.research.google.com/assets/colab-badge.svg\" alt=\"Open In Colab\"/></a>"
      ]
    },
    {
      "cell_type": "code",
      "metadata": {
        "id": "WxLgBVjilIRw"
      },
      "source": [
        "import pandas as pd\n",
        "import matplotlib.pyplot as plt"
      ],
      "execution_count": 2,
      "outputs": []
    },
    {
      "cell_type": "code",
      "metadata": {
        "id": "27QeRrBRjM8V"
      },
      "source": [
        "projects_database = pd.read_csv('https://raw.githubusercontent.com/Raidenkyu/hermit-study/master/res/projects.csv?token=AGF4DR5S4K5DLXHXVEVQY3DA2DMKI', delimiter=\";\")\n",
        "evaluations_database = pd.read_csv('https://raw.githubusercontent.com/Raidenkyu/hermit-study/master/res/evaluations.csv?token=AGF4DR2JZLZBJ2S2QYWYQDLA2DMJE', delimiter=\";\")"
      ],
      "execution_count": 4,
      "outputs": []
    },
    {
      "cell_type": "code",
      "metadata": {
        "colab": {
          "base_uri": "https://localhost:8080/",
          "height": 419
        },
        "id": "QMvZSEanmDjF",
        "outputId": "c035eec4-1b91-42c5-cc9e-5f2306f476bd"
      },
      "source": [
        "projects_database"
      ],
      "execution_count": null,
      "outputs": [
        {
          "output_type": "execute_result",
          "data": {
            "text/html": [
              "<div>\n",
              "<style scoped>\n",
              "    .dataframe tbody tr th:only-of-type {\n",
              "        vertical-align: middle;\n",
              "    }\n",
              "\n",
              "    .dataframe tbody tr th {\n",
              "        vertical-align: top;\n",
              "    }\n",
              "\n",
              "    .dataframe thead th {\n",
              "        text-align: right;\n",
              "    }\n",
              "</style>\n",
              "<table border=\"1\" class=\"dataframe\">\n",
              "  <thead>\n",
              "    <tr style=\"text-align: right;\">\n",
              "      <th></th>\n",
              "      <th>name</th>\n",
              "      <th>count</th>\n",
              "      <th>url</th>\n",
              "      <th>status</th>\n",
              "      <th>build</th>\n",
              "    </tr>\n",
              "  </thead>\n",
              "  <tbody>\n",
              "    <tr>\n",
              "      <th>0</th>\n",
              "      <td>ColorlibHQ/AdminLTE</td>\n",
              "      <td>1</td>\n",
              "      <td>https://github.com/ColorlibHQ/AdminLTE</td>\n",
              "      <td>discarded</td>\n",
              "      <td>NaN</td>\n",
              "    </tr>\n",
              "    <tr>\n",
              "      <th>1</th>\n",
              "      <td>serverless/serverless</td>\n",
              "      <td>6</td>\n",
              "      <td>https://github.com/serverless/serverless</td>\n",
              "      <td>discarded</td>\n",
              "      <td>NaN</td>\n",
              "    </tr>\n",
              "    <tr>\n",
              "      <th>2</th>\n",
              "      <td>huggingface/transformers</td>\n",
              "      <td>7</td>\n",
              "      <td>https://github.com/huggingface/transformers</td>\n",
              "      <td>discarded</td>\n",
              "      <td>NaN</td>\n",
              "    </tr>\n",
              "    <tr>\n",
              "      <th>3</th>\n",
              "      <td>serverless/serverless</td>\n",
              "      <td>6</td>\n",
              "      <td>https://github.com/serverless/serverless</td>\n",
              "      <td>discarded</td>\n",
              "      <td>NaN</td>\n",
              "    </tr>\n",
              "    <tr>\n",
              "      <th>4</th>\n",
              "      <td>nylas/nylas-mail</td>\n",
              "      <td>1</td>\n",
              "      <td>https://github.com/nylas/nylas-mail</td>\n",
              "      <td>discarded</td>\n",
              "      <td>NaN</td>\n",
              "    </tr>\n",
              "    <tr>\n",
              "      <th>...</th>\n",
              "      <td>...</td>\n",
              "      <td>...</td>\n",
              "      <td>...</td>\n",
              "      <td>...</td>\n",
              "      <td>...</td>\n",
              "    </tr>\n",
              "    <tr>\n",
              "      <th>115</th>\n",
              "      <td>facebookresearch/Detectron</td>\n",
              "      <td>1</td>\n",
              "      <td>https://github.com/facebookresearch/Detectron</td>\n",
              "      <td>NaN</td>\n",
              "      <td>NaN</td>\n",
              "    </tr>\n",
              "    <tr>\n",
              "      <th>116</th>\n",
              "      <td>streamaserver/streama</td>\n",
              "      <td>2</td>\n",
              "      <td>https://github.com/streamaserver/streama</td>\n",
              "      <td>NaN</td>\n",
              "      <td>NaN</td>\n",
              "    </tr>\n",
              "    <tr>\n",
              "      <th>117</th>\n",
              "      <td>horovod/horovod</td>\n",
              "      <td>5</td>\n",
              "      <td>https://github.com/horovod/horovod</td>\n",
              "      <td>NaN</td>\n",
              "      <td>NaN</td>\n",
              "    </tr>\n",
              "    <tr>\n",
              "      <th>118</th>\n",
              "      <td>numpy/numpy</td>\n",
              "      <td>2</td>\n",
              "      <td>https://github.com/numpy/numpy</td>\n",
              "      <td>NaN</td>\n",
              "      <td>NaN</td>\n",
              "    </tr>\n",
              "    <tr>\n",
              "      <th>119</th>\n",
              "      <td>mailpile/Mailpile</td>\n",
              "      <td>3</td>\n",
              "      <td>https://github.com/mailpile/Mailpile</td>\n",
              "      <td>NaN</td>\n",
              "      <td>NaN</td>\n",
              "    </tr>\n",
              "  </tbody>\n",
              "</table>\n",
              "<p>120 rows × 5 columns</p>\n",
              "</div>"
            ],
            "text/plain": [
              "                           name  count  ...     status build\n",
              "0           ColorlibHQ/AdminLTE      1  ...  discarded   NaN\n",
              "1         serverless/serverless      6  ...  discarded   NaN\n",
              "2      huggingface/transformers      7  ...  discarded   NaN\n",
              "3         serverless/serverless      6  ...  discarded   NaN\n",
              "4              nylas/nylas-mail      1  ...  discarded   NaN\n",
              "..                          ...    ...  ...        ...   ...\n",
              "115  facebookresearch/Detectron      1  ...        NaN   NaN\n",
              "116       streamaserver/streama      2  ...        NaN   NaN\n",
              "117             horovod/horovod      5  ...        NaN   NaN\n",
              "118                 numpy/numpy      2  ...        NaN   NaN\n",
              "119           mailpile/Mailpile      3  ...        NaN   NaN\n",
              "\n",
              "[120 rows x 5 columns]"
            ]
          },
          "metadata": {
            "tags": []
          },
          "execution_count": 3
        }
      ]
    },
    {
      "cell_type": "code",
      "metadata": {
        "colab": {
          "base_uri": "https://localhost:8080/",
          "height": 1000
        },
        "id": "UQzIEHRNmJgj",
        "outputId": "2c94ab66-720a-498c-e61f-923153b61f12"
      },
      "source": [
        "evaluations_database"
      ],
      "execution_count": null,
      "outputs": [
        {
          "output_type": "execute_result",
          "data": {
            "text/html": [
              "<div>\n",
              "<style scoped>\n",
              "    .dataframe tbody tr th:only-of-type {\n",
              "        vertical-align: middle;\n",
              "    }\n",
              "\n",
              "    .dataframe tbody tr th {\n",
              "        vertical-align: top;\n",
              "    }\n",
              "\n",
              "    .dataframe thead th {\n",
              "        text-align: right;\n",
              "    }\n",
              "</style>\n",
              "<table border=\"1\" class=\"dataframe\">\n",
              "  <thead>\n",
              "    <tr style=\"text-align: right;\">\n",
              "      <th></th>\n",
              "      <th>name</th>\n",
              "      <th>bloatRatio</th>\n",
              "      <th>missedDependencies</th>\n",
              "      <th>balance</th>\n",
              "      <th>ports</th>\n",
              "      <th>risk</th>\n",
              "      <th>entrypoint</th>\n",
              "    </tr>\n",
              "  </thead>\n",
              "  <tbody>\n",
              "    <tr>\n",
              "      <th>0</th>\n",
              "      <td>athena</td>\n",
              "      <td>0.0</td>\n",
              "      <td>0.0</td>\n",
              "      <td>0</td>\n",
              "      <td>NaN</td>\n",
              "      <td>0</td>\n",
              "      <td>70.6</td>\n",
              "    </tr>\n",
              "    <tr>\n",
              "      <th>1</th>\n",
              "      <td>cowait</td>\n",
              "      <td>0.0</td>\n",
              "      <td>36.5</td>\n",
              "      <td>3771</td>\n",
              "      <td>NaN</td>\n",
              "      <td>0</td>\n",
              "      <td>100.0</td>\n",
              "    </tr>\n",
              "    <tr>\n",
              "      <th>2</th>\n",
              "      <td>vulcan</td>\n",
              "      <td>0.0</td>\n",
              "      <td>0.0</td>\n",
              "      <td>0</td>\n",
              "      <td>NaN</td>\n",
              "      <td>0</td>\n",
              "      <td>70.6</td>\n",
              "    </tr>\n",
              "    <tr>\n",
              "      <th>3</th>\n",
              "      <td>newTrackon</td>\n",
              "      <td>93.6</td>\n",
              "      <td>17.0</td>\n",
              "      <td>3635</td>\n",
              "      <td>100.0</td>\n",
              "      <td>0</td>\n",
              "      <td>100.0</td>\n",
              "    </tr>\n",
              "    <tr>\n",
              "      <th>4</th>\n",
              "      <td>sherlock</td>\n",
              "      <td>72.5</td>\n",
              "      <td>42.9</td>\n",
              "      <td>877454</td>\n",
              "      <td>NaN</td>\n",
              "      <td>0</td>\n",
              "      <td>100.0</td>\n",
              "    </tr>\n",
              "    <tr>\n",
              "      <th>5</th>\n",
              "      <td>k8s-sidecar</td>\n",
              "      <td>92.2</td>\n",
              "      <td>38.0</td>\n",
              "      <td>0</td>\n",
              "      <td>NaN</td>\n",
              "      <td>0</td>\n",
              "      <td>100.0</td>\n",
              "    </tr>\n",
              "    <tr>\n",
              "      <th>6</th>\n",
              "      <td>pipenv</td>\n",
              "      <td>21.5</td>\n",
              "      <td>84.7</td>\n",
              "      <td>56081719</td>\n",
              "      <td>NaN</td>\n",
              "      <td>0</td>\n",
              "      <td>100.0</td>\n",
              "    </tr>\n",
              "    <tr>\n",
              "      <th>7</th>\n",
              "      <td>RSSHub</td>\n",
              "      <td>27.1</td>\n",
              "      <td>1.1</td>\n",
              "      <td>18432</td>\n",
              "      <td>100.0</td>\n",
              "      <td>0</td>\n",
              "      <td>70.6</td>\n",
              "    </tr>\n",
              "    <tr>\n",
              "      <th>8</th>\n",
              "      <td>gitlab-semantic-versioning</td>\n",
              "      <td>4.0</td>\n",
              "      <td>47.4</td>\n",
              "      <td>8988389</td>\n",
              "      <td>NaN</td>\n",
              "      <td>0</td>\n",
              "      <td>100.0</td>\n",
              "    </tr>\n",
              "    <tr>\n",
              "      <th>9</th>\n",
              "      <td>findmeaflat</td>\n",
              "      <td>88.8</td>\n",
              "      <td>0.0</td>\n",
              "      <td>0</td>\n",
              "      <td>NaN</td>\n",
              "      <td>0</td>\n",
              "      <td>0.0</td>\n",
              "    </tr>\n",
              "    <tr>\n",
              "      <th>10</th>\n",
              "      <td>hackathon-starter</td>\n",
              "      <td>63.2</td>\n",
              "      <td>0.0</td>\n",
              "      <td>906</td>\n",
              "      <td>100.0</td>\n",
              "      <td>0</td>\n",
              "      <td>100.0</td>\n",
              "    </tr>\n",
              "    <tr>\n",
              "      <th>11</th>\n",
              "      <td>face_recognition</td>\n",
              "      <td>24.3</td>\n",
              "      <td>67.2</td>\n",
              "      <td>-9459986</td>\n",
              "      <td>NaN</td>\n",
              "      <td>0</td>\n",
              "      <td>100.0</td>\n",
              "    </tr>\n",
              "    <tr>\n",
              "      <th>12</th>\n",
              "      <td>bookdb</td>\n",
              "      <td>0.0</td>\n",
              "      <td>78.4</td>\n",
              "      <td>3905</td>\n",
              "      <td>NaN</td>\n",
              "      <td>0</td>\n",
              "      <td>100.0</td>\n",
              "    </tr>\n",
              "    <tr>\n",
              "      <th>13</th>\n",
              "      <td>nodebestpractices</td>\n",
              "      <td>84.8</td>\n",
              "      <td>0.0</td>\n",
              "      <td>-845246</td>\n",
              "      <td>100.0</td>\n",
              "      <td>0</td>\n",
              "      <td>9.5</td>\n",
              "    </tr>\n",
              "    <tr>\n",
              "      <th>14</th>\n",
              "      <td>parse-server</td>\n",
              "      <td>78.1</td>\n",
              "      <td>0.0</td>\n",
              "      <td>0</td>\n",
              "      <td>100.0</td>\n",
              "      <td>0</td>\n",
              "      <td>7.1</td>\n",
              "    </tr>\n",
              "    <tr>\n",
              "      <th>15</th>\n",
              "      <td>sampleo</td>\n",
              "      <td>37.6</td>\n",
              "      <td>65.1</td>\n",
              "      <td>44387964</td>\n",
              "      <td>NaN</td>\n",
              "      <td>0</td>\n",
              "      <td>100.0</td>\n",
              "    </tr>\n",
              "    <tr>\n",
              "      <th>16</th>\n",
              "      <td>auto-generate-changelog</td>\n",
              "      <td>0.0</td>\n",
              "      <td>47.1</td>\n",
              "      <td>3373878</td>\n",
              "      <td>NaN</td>\n",
              "      <td>0</td>\n",
              "      <td>100.0</td>\n",
              "    </tr>\n",
              "    <tr>\n",
              "      <th>17</th>\n",
              "      <td>api</td>\n",
              "      <td>0.0</td>\n",
              "      <td>0.0</td>\n",
              "      <td>0</td>\n",
              "      <td>NaN</td>\n",
              "      <td>0</td>\n",
              "      <td>70.6</td>\n",
              "    </tr>\n",
              "    <tr>\n",
              "      <th>18</th>\n",
              "      <td>linuxkit-logger</td>\n",
              "      <td>74.6</td>\n",
              "      <td>0.0</td>\n",
              "      <td>-940191</td>\n",
              "      <td>NaN</td>\n",
              "      <td>0</td>\n",
              "      <td>72.7</td>\n",
              "    </tr>\n",
              "    <tr>\n",
              "      <th>19</th>\n",
              "      <td>immer</td>\n",
              "      <td>36.4</td>\n",
              "      <td>22.6</td>\n",
              "      <td>30023359</td>\n",
              "      <td>100.0</td>\n",
              "      <td>0</td>\n",
              "      <td>100.0</td>\n",
              "    </tr>\n",
              "    <tr>\n",
              "      <th>20</th>\n",
              "      <td>locust</td>\n",
              "      <td>0.0</td>\n",
              "      <td>78.5</td>\n",
              "      <td>0</td>\n",
              "      <td>100.0</td>\n",
              "      <td>0</td>\n",
              "      <td>100.0</td>\n",
              "    </tr>\n",
              "    <tr>\n",
              "      <th>21</th>\n",
              "      <td>tracker</td>\n",
              "      <td>84.8</td>\n",
              "      <td>0.0</td>\n",
              "      <td>8867418</td>\n",
              "      <td>100.0</td>\n",
              "      <td>0</td>\n",
              "      <td>100.0</td>\n",
              "    </tr>\n",
              "    <tr>\n",
              "      <th>22</th>\n",
              "      <td>ranger</td>\n",
              "      <td>72.7</td>\n",
              "      <td>12.1</td>\n",
              "      <td>0</td>\n",
              "      <td>NaN</td>\n",
              "      <td>0</td>\n",
              "      <td>100.0</td>\n",
              "    </tr>\n",
              "    <tr>\n",
              "      <th>23</th>\n",
              "      <td>hyperion</td>\n",
              "      <td>0.0</td>\n",
              "      <td>0.0</td>\n",
              "      <td>0</td>\n",
              "      <td>NaN</td>\n",
              "      <td>0</td>\n",
              "      <td>70.6</td>\n",
              "    </tr>\n",
              "    <tr>\n",
              "      <th>24</th>\n",
              "      <td>hermes</td>\n",
              "      <td>0.0</td>\n",
              "      <td>0.0</td>\n",
              "      <td>0</td>\n",
              "      <td>NaN</td>\n",
              "      <td>0</td>\n",
              "      <td>70.6</td>\n",
              "    </tr>\n",
              "    <tr>\n",
              "      <th>25</th>\n",
              "      <td>juice-shop</td>\n",
              "      <td>53.4</td>\n",
              "      <td>0.0</td>\n",
              "      <td>0</td>\n",
              "      <td>100.0</td>\n",
              "      <td>0</td>\n",
              "      <td>100.0</td>\n",
              "    </tr>\n",
              "    <tr>\n",
              "      <th>26</th>\n",
              "      <td>juice-shop-ctf</td>\n",
              "      <td>86.8</td>\n",
              "      <td>0.0</td>\n",
              "      <td>0</td>\n",
              "      <td>NaN</td>\n",
              "      <td>0</td>\n",
              "      <td>100.0</td>\n",
              "    </tr>\n",
              "    <tr>\n",
              "      <th>27</th>\n",
              "      <td>dockercron</td>\n",
              "      <td>68.5</td>\n",
              "      <td>40.6</td>\n",
              "      <td>40908687</td>\n",
              "      <td>100.0</td>\n",
              "      <td>0</td>\n",
              "      <td>0.0</td>\n",
              "    </tr>\n",
              "    <tr>\n",
              "      <th>28</th>\n",
              "      <td>cookiecutter-flask</td>\n",
              "      <td>0.0</td>\n",
              "      <td>8.2</td>\n",
              "      <td>772122</td>\n",
              "      <td>NaN</td>\n",
              "      <td>0</td>\n",
              "      <td>100.0</td>\n",
              "    </tr>\n",
              "    <tr>\n",
              "      <th>29</th>\n",
              "      <td>glances</td>\n",
              "      <td>0.0</td>\n",
              "      <td>67.6</td>\n",
              "      <td>3635</td>\n",
              "      <td>100.0</td>\n",
              "      <td>0</td>\n",
              "      <td>100.0</td>\n",
              "    </tr>\n",
              "    <tr>\n",
              "      <th>30</th>\n",
              "      <td>chronos</td>\n",
              "      <td>0.0</td>\n",
              "      <td>0.0</td>\n",
              "      <td>0</td>\n",
              "      <td>NaN</td>\n",
              "      <td>0</td>\n",
              "      <td>70.6</td>\n",
              "    </tr>\n",
              "  </tbody>\n",
              "</table>\n",
              "</div>"
            ],
            "text/plain": [
              "                          name  bloatRatio  ...  risk  entrypoint\n",
              "0                       athena         0.0  ...     0        70.6\n",
              "1                       cowait         0.0  ...     0       100.0\n",
              "2                       vulcan         0.0  ...     0        70.6\n",
              "3                   newTrackon        93.6  ...     0       100.0\n",
              "4                     sherlock        72.5  ...     0       100.0\n",
              "5                  k8s-sidecar        92.2  ...     0       100.0\n",
              "6                       pipenv        21.5  ...     0       100.0\n",
              "7                       RSSHub        27.1  ...     0        70.6\n",
              "8   gitlab-semantic-versioning         4.0  ...     0       100.0\n",
              "9                  findmeaflat        88.8  ...     0         0.0\n",
              "10           hackathon-starter        63.2  ...     0       100.0\n",
              "11            face_recognition        24.3  ...     0       100.0\n",
              "12                      bookdb         0.0  ...     0       100.0\n",
              "13           nodebestpractices        84.8  ...     0         9.5\n",
              "14                parse-server        78.1  ...     0         7.1\n",
              "15                     sampleo        37.6  ...     0       100.0\n",
              "16     auto-generate-changelog         0.0  ...     0       100.0\n",
              "17                         api         0.0  ...     0        70.6\n",
              "18             linuxkit-logger        74.6  ...     0        72.7\n",
              "19                       immer        36.4  ...     0       100.0\n",
              "20                      locust         0.0  ...     0       100.0\n",
              "21                     tracker        84.8  ...     0       100.0\n",
              "22                      ranger        72.7  ...     0       100.0\n",
              "23                    hyperion         0.0  ...     0        70.6\n",
              "24                      hermes         0.0  ...     0        70.6\n",
              "25                  juice-shop        53.4  ...     0       100.0\n",
              "26              juice-shop-ctf        86.8  ...     0       100.0\n",
              "27                  dockercron        68.5  ...     0         0.0\n",
              "28          cookiecutter-flask         0.0  ...     0       100.0\n",
              "29                     glances         0.0  ...     0       100.0\n",
              "30                     chronos         0.0  ...     0        70.6\n",
              "\n",
              "[31 rows x 7 columns]"
            ]
          },
          "metadata": {
            "tags": []
          },
          "execution_count": 7
        }
      ]
    },
    {
      "cell_type": "code",
      "metadata": {
        "colab": {
          "base_uri": "https://localhost:8080/",
          "height": 482
        },
        "id": "b36Il39wl3IP",
        "outputId": "99d4c8a4-0d09-4134-9ea1-660d387d40e1"
      },
      "source": [
        "status_count = projects_database.groupby('status').count()\n",
        "status_count.plot.pie(y='count', figsize=(6, 6), autopct='%1.1f%%')\n",
        "status_count.drop(columns=['name', 'url', 'build'])"
      ],
      "execution_count": null,
      "outputs": [
        {
          "output_type": "execute_result",
          "data": {
            "text/html": [
              "<div>\n",
              "<style scoped>\n",
              "    .dataframe tbody tr th:only-of-type {\n",
              "        vertical-align: middle;\n",
              "    }\n",
              "\n",
              "    .dataframe tbody tr th {\n",
              "        vertical-align: top;\n",
              "    }\n",
              "\n",
              "    .dataframe thead th {\n",
              "        text-align: right;\n",
              "    }\n",
              "</style>\n",
              "<table border=\"1\" class=\"dataframe\">\n",
              "  <thead>\n",
              "    <tr style=\"text-align: right;\">\n",
              "      <th></th>\n",
              "      <th>count</th>\n",
              "    </tr>\n",
              "    <tr>\n",
              "      <th>status</th>\n",
              "      <th></th>\n",
              "    </tr>\n",
              "  </thead>\n",
              "  <tbody>\n",
              "    <tr>\n",
              "      <th>accepted</th>\n",
              "      <td>43</td>\n",
              "    </tr>\n",
              "    <tr>\n",
              "      <th>discarded</th>\n",
              "      <td>46</td>\n",
              "    </tr>\n",
              "  </tbody>\n",
              "</table>\n",
              "</div>"
            ],
            "text/plain": [
              "           count\n",
              "status          \n",
              "accepted      43\n",
              "discarded     46"
            ]
          },
          "metadata": {
            "tags": []
          },
          "execution_count": 8
        },
        {
          "output_type": "display_data",
          "data": {
            "image/png": "[encoded data removed]",
            "text/plain": [
              "<Figure size 432x432 with 1 Axes>"
            ]
          },
          "metadata": {
            "tags": []
          }
        }
      ]
    },
    {
      "cell_type": "code",
      "metadata": {
        "colab": {
          "base_uri": "https://localhost:8080/",
          "height": 513
        },
        "id": "Wb5f7HxemUVg",
        "outputId": "2ea35bdc-d722-4d4a-dad5-17fdd42fb0dc"
      },
      "source": [
        "status_count = projects_database.groupby('build').count()\n",
        "status_count.plot.pie(y='count', figsize=(6, 6), autopct='%1.1f%%')\n",
        "status_count.drop(columns=['name', 'url', 'status'])"
      ],
      "execution_count": null,
      "outputs": [
        {
          "output_type": "execute_result",
          "data": {
            "text/html": [
              "<div>\n",
              "<style scoped>\n",
              "    .dataframe tbody tr th:only-of-type {\n",
              "        vertical-align: middle;\n",
              "    }\n",
              "\n",
              "    .dataframe tbody tr th {\n",
              "        vertical-align: top;\n",
              "    }\n",
              "\n",
              "    .dataframe thead th {\n",
              "        text-align: right;\n",
              "    }\n",
              "</style>\n",
              "<table border=\"1\" class=\"dataframe\">\n",
              "  <thead>\n",
              "    <tr style=\"text-align: right;\">\n",
              "      <th></th>\n",
              "      <th>count</th>\n",
              "    </tr>\n",
              "    <tr>\n",
              "      <th>build</th>\n",
              "      <th></th>\n",
              "    </tr>\n",
              "  </thead>\n",
              "  <tbody>\n",
              "    <tr>\n",
              "      <th>failed-build</th>\n",
              "      <td>10</td>\n",
              "    </tr>\n",
              "    <tr>\n",
              "      <th>require-extra-steps</th>\n",
              "      <td>1</td>\n",
              "    </tr>\n",
              "    <tr>\n",
              "      <th>successful</th>\n",
              "      <td>32</td>\n",
              "    </tr>\n",
              "  </tbody>\n",
              "</table>\n",
              "</div>"
            ],
            "text/plain": [
              "                     count\n",
              "build                     \n",
              "failed-build            10\n",
              "require-extra-steps      1\n",
              "successful              32"
            ]
          },
          "metadata": {
            "tags": []
          },
          "execution_count": 9
        },
        {
          "output_type": "display_data",
          "data": {
            "image/png": "[encoded data removed]",
            "text/plain": [
              "<Figure size 432x432 with 1 Axes>"
            ]
          },
          "metadata": {
            "tags": []
          }
        }
      ]
    },
    {
      "cell_type": "code",
      "metadata": {
        "id": "eSISkCduvtCT"
      },
      "source": [
        "def calculate_statistics(column):\n",
        "  min = column.quantile(0.0)\n",
        "  q1 = column.quantile(0.25)\n",
        "  q2 = column.quantile(0.50)\n",
        "  q3 = column.quantile(0.75)\n",
        "  max = column.quantile(1.0)\n",
        "  \n",
        "  iqr = q3 - q1\n",
        "  lb = q1 - (1.5 * iqr)\n",
        "  ub = q3 + (1.5 * iqr)\n",
        "\n",
        "  mean = column.mean()\n",
        "  std = column.std()\n",
        "\n",
        "  return min, q1, q2, q3, max, iqr, lb, ub, mean, std"
      ],
      "execution_count": 7,
      "outputs": []
    },
    {
      "cell_type": "code",
      "metadata": {
        "id": "TmyYRYtjzskx"
      },
      "source": [
        "renamed_evaluations = evaluations_database.rename(columns={\n",
        "    'bloatRatio': 'Bloat Ratio',\n",
        "    'missedDependencies': 'Missed Dependencies Ratio',\n",
        "    'balance':'Balance',\n",
        "    'ports': 'Ports Detection Accuracy',\n",
        "    'risk': 'Risk Percentage',\n",
        "    'entrypoint': 'Entrypoint Similarity'\n",
        "})"
      ],
      "execution_count": 18,
      "outputs": []
    },
    {
      "cell_type": "code",
      "metadata": {
        "id": "bh_Bdb53wvTp",
        "outputId": "7ae6ca22-e7ac-4a18-8fef-be90a49f0410",
        "colab": {
          "base_uri": "https://localhost:8080/",
          "height": 507
        }
      },
      "source": [
        "# Bloat Ratio\n",
        "\n",
        "min, q1, q2, q3, max, iqr, lb, ub, mean, std = calculate_statistics(evaluations_database['bloatRatio'])\n",
        "\n",
        "print(f\"Mean Bloat Ratio: {mean} %\")\n",
        "print(f\"Min: {min}\")\n",
        "print(f\"LB: {lb}\")\n",
        "print(f\"Q1: {q1}\")\n",
        "print(f\"Q2: {q2}\")\n",
        "print(f\"Q3: {q3}\")\n",
        "print(f\"UB: {ub}\")\n",
        "print(f\"Max: {max}\")\n",
        "print(f\"IQR: {iqr}\")\n",
        "print(f\"Standard Deviation: {std}\")\n",
        "\n",
        "renamed_evaluations.boxplot(column=['Bloat Ratio'], figsize=(5, 5))"
      ],
      "execution_count": 19,
      "outputs": [
        {
          "output_type": "stream",
          "text": [
            "Mean Bloat Ratio: 37.57741935483871 %\n",
            "Min: 0.0\n",
            "LB: -110.47500000000001\n",
            "Q1: 0.0\n",
            "Q2: 27.1\n",
            "Q3: 73.65\n",
            "UB: 184.125\n",
            "Max: 93.6\n",
            "IQR: 73.65\n",
            "Standard Deviation: 37.22716489946035\n"
          ],
          "name": "stdout"
        },
        {
          "output_type": "execute_result",
          "data": {
            "text/plain": [
              "<matplotlib.axes._subplots.AxesSubplot at 0x7fc258ab3910>"
            ]
          },
          "metadata": {
            "tags": []
          },
          "execution_count": 19
        },
        {
          "output_type": "display_data",
          "data": {
            "image/png": "[encoded data removed]",
            "text/plain": [
              "<Figure size 360x360 with 1 Axes>"
            ]
          },
          "metadata": {
            "tags": [],
            "needs_background": "light"
          }
        }
      ]
    },
    {
      "cell_type": "code",
      "metadata": {
        "id": "_URigaHFxxjI",
        "outputId": "951ea8d2-2b30-4d95-8e79-7f484e9ec990",
        "colab": {
          "base_uri": "https://localhost:8080/",
          "height": 507
        }
      },
      "source": [
        "# Missed Dependencies Ratio\n",
        "\n",
        "min, q1, q2, q3, max, iqr, lb, ub, mean, std = calculate_statistics(evaluations_database['missedDependencies'])\n",
        "\n",
        "print(f\"Mean Missed Dependencies Ratio: {mean} %\")\n",
        "print(f\"Min: {min}\")\n",
        "print(f\"LB: {lb}\")\n",
        "print(f\"Q1: {q1}\")\n",
        "print(f\"Q2: {q2}\")\n",
        "print(f\"Q3: {q3}\")\n",
        "print(f\"UB: {ub}\")\n",
        "print(f\"Max: {max}\")\n",
        "print(f\"IQR: {iqr}\")\n",
        "print(f\"Standard Deviation: {std}\")\n",
        "\n",
        "renamed_evaluations.boxplot(column=['Missed Dependencies Ratio'], figsize=(5, 5))"
      ],
      "execution_count": 20,
      "outputs": [
        {
          "output_type": "stream",
          "text": [
            "Mean Missed Dependencies Ratio: 24.354838709677427 %\n",
            "Min: 0.0\n",
            "LB: -67.5\n",
            "Q1: 0.0\n",
            "Q2: 8.2\n",
            "Q3: 45.0\n",
            "UB: 112.5\n",
            "Max: 84.7\n",
            "IQR: 45.0\n",
            "Standard Deviation: 29.5315745004075\n"
          ],
          "name": "stdout"
        },
        {
          "output_type": "execute_result",
          "data": {
            "text/plain": [
              "<matplotlib.axes._subplots.AxesSubplot at 0x7fc2520ca0d0>"
            ]
          },
          "metadata": {
            "tags": []
          },
          "execution_count": 20
        },
        {
          "output_type": "display_data",
          "data": {
            "image/png": "[encoded data removed]",
            "text/plain": [
              "<Figure size 360x360 with 1 Axes>"
            ]
          },
          "metadata": {
            "tags": [],
            "needs_background": "light"
          }
        }
      ]
    },
    {
      "cell_type": "code",
      "metadata": {
        "id": "jWj35hyNx5Ud",
        "outputId": "5d6ffe48-168c-41ef-d93d-88aea7222ca3",
        "colab": {
          "base_uri": "https://localhost:8080/",
          "height": 518
        }
      },
      "source": [
        "# Balance\n",
        "\n",
        "min, q1, q2, q3, max, iqr, lb, ub, mean, std = calculate_statistics(evaluations_database['balance'])\n",
        "\n",
        "print(f\"Mean Balance: {mean / 1000000} MB\")\n",
        "print(f\"Min: {min / 1000000}\")\n",
        "print(f\"LB: {lb / 1000000}\")\n",
        "print(f\"Q1: {q1 / 1000000}\")\n",
        "print(f\"Q2: {q2 / 1000000}\")\n",
        "print(f\"Q3: {q3 / 1000000}\")\n",
        "print(f\"UB: {ub / 1000000}\")\n",
        "print(f\"Max: {max / 1000000}\")\n",
        "print(f\"IQR: {iqr / 1000000}\")\n",
        "print(f\"Standard Deviation: {std / 1000000}\")\n",
        "\n",
        "renamed_evaluations.boxplot(column=['Balance'], figsize=(5, 5))"
      ],
      "execution_count": 21,
      "outputs": [
        {
          "output_type": "stream",
          "text": [
            "Mean Balance: 5.905479064516129 MB\n",
            "Min: -9.459986\n",
            "LB: -1.237182\n",
            "Q1: 0.0\n",
            "Q2: 0.0\n",
            "Q3: 0.824788\n",
            "UB: 2.06197\n",
            "Max: 56.081719\n",
            "IQR: 0.824788\n",
            "Standard Deviation: 15.135520760010225\n"
          ],
          "name": "stdout"
        },
        {
          "output_type": "execute_result",
          "data": {
            "text/plain": [
              "<matplotlib.axes._subplots.AxesSubplot at 0x7fc2520b5cd0>"
            ]
          },
          "metadata": {
            "tags": []
          },
          "execution_count": 21
        },
        {
          "output_type": "display_data",
          "data": {
            "image/png": "[encoded data removed]",
            "text/plain": [
              "<Figure size 360x360 with 1 Axes>"
            ]
          },
          "metadata": {
            "tags": [],
            "needs_background": "light"
          }
        }
      ]
    },
    {
      "cell_type": "code",
      "metadata": {
        "id": "R-6uSJMCyUWd",
        "outputId": "233e400a-2b00-4064-a3d5-c7bf041128df",
        "colab": {
          "base_uri": "https://localhost:8080/",
          "height": 507
        }
      },
      "source": [
        "# Ports Detection Accuracy\n",
        "\n",
        "min, q1, q2, q3, max, iqr, lb, ub, mean, std = calculate_statistics(evaluations_database['ports'].dropna())\n",
        "\n",
        "print(f\"Mean Ports Detection Accuracy: {mean} %\")\n",
        "print(f\"Min: {min}\")\n",
        "print(f\"LB: {lb}\")\n",
        "print(f\"Q1: {q1}\")\n",
        "print(f\"Q2: {q2}\")\n",
        "print(f\"Q3: {q3}\")\n",
        "print(f\"UB: {ub}\")\n",
        "print(f\"Max: {max}\")\n",
        "print(f\"IQR: {iqr}\")\n",
        "print(f\"Standard Deviation: {std}\")\n",
        "\n",
        "renamed_evaluations.boxplot(column=['Ports Detection Accuracy'], figsize=(5, 5))"
      ],
      "execution_count": 22,
      "outputs": [
        {
          "output_type": "stream",
          "text": [
            "Mean Ports Detection Accuracy: 100.0 %\n",
            "Min: 100.0\n",
            "LB: 100.0\n",
            "Q1: 100.0\n",
            "Q2: 100.0\n",
            "Q3: 100.0\n",
            "UB: 100.0\n",
            "Max: 100.0\n",
            "IQR: 0.0\n",
            "Standard Deviation: 0.0\n"
          ],
          "name": "stdout"
        },
        {
          "output_type": "execute_result",
          "data": {
            "text/plain": [
              "<matplotlib.axes._subplots.AxesSubplot at 0x7fc25201dd90>"
            ]
          },
          "metadata": {
            "tags": []
          },
          "execution_count": 22
        },
        {
          "output_type": "display_data",
          "data": {
            "image/png": "[encoded data removed]",
            "text/plain": [
              "<Figure size 360x360 with 1 Axes>"
            ]
          },
          "metadata": {
            "tags": [],
            "needs_background": "light"
          }
        }
      ]
    },
    {
      "cell_type": "code",
      "metadata": {
        "id": "oIxF_YorzIHb",
        "outputId": "f638952b-c9b7-4bf6-d514-5683dc5f2471",
        "colab": {
          "base_uri": "https://localhost:8080/",
          "height": 507
        }
      },
      "source": [
        "# Risk Percentage\n",
        "\n",
        "min, q1, q2, q3, max, iqr, lb, ub, mean, std = calculate_statistics(evaluations_database['risk'])\n",
        "\n",
        "print(f\"Mean Risk Percentage: {mean} %\")\n",
        "print(f\"Min: {min}\")\n",
        "print(f\"LB: {lb}\")\n",
        "print(f\"Q1: {q1}\")\n",
        "print(f\"Q2: {q2}\")\n",
        "print(f\"Q3: {q3}\")\n",
        "print(f\"UB: {ub}\")\n",
        "print(f\"Max: {max}\")\n",
        "print(f\"IQR: {iqr}\")\n",
        "print(f\"Standard Deviation: {std}\")\n",
        "\n",
        "renamed_evaluations.boxplot(column=['Risk Percentage'], figsize=(5, 5))"
      ],
      "execution_count": 23,
      "outputs": [
        {
          "output_type": "stream",
          "text": [
            "Mean Risk Percentage: 0.0 %\n",
            "Min: 0.0\n",
            "LB: 0.0\n",
            "Q1: 0.0\n",
            "Q2: 0.0\n",
            "Q3: 0.0\n",
            "UB: 0.0\n",
            "Max: 0.0\n",
            "IQR: 0.0\n",
            "Standard Deviation: 0.0\n"
          ],
          "name": "stdout"
        },
        {
          "output_type": "execute_result",
          "data": {
            "text/plain": [
              "<matplotlib.axes._subplots.AxesSubplot at 0x7fc251f8cb10>"
            ]
          },
          "metadata": {
            "tags": []
          },
          "execution_count": 23
        },
        {
          "output_type": "display_data",
          "data": {
            "image/png": "[encoded data removed]",
            "text/plain": [
              "<Figure size 360x360 with 1 Axes>"
            ]
          },
          "metadata": {
            "tags": [],
            "needs_background": "light"
          }
        }
      ]
    },
    {
      "cell_type": "code",
      "metadata": {
        "id": "1m8qHqeQzRDA",
        "outputId": "e7630d91-c160-4c95-c59a-64bb0198ee1b",
        "colab": {
          "base_uri": "https://localhost:8080/",
          "height": 507
        }
      },
      "source": [
        "# Entrypoint Similarity\n",
        "\n",
        "min, q1, q2, q3, max, iqr, lb, ub, mean, std = calculate_statistics(evaluations_database['entrypoint'])\n",
        "\n",
        "print(f\"Mean Entrypoint Similarity: {mean} %\")\n",
        "print(f\"Min: {min}\")\n",
        "print(f\"LB: {lb}\")\n",
        "print(f\"Q1: {q1}\")\n",
        "print(f\"Q2: {q2}\")\n",
        "print(f\"Q3: {q3}\")\n",
        "print(f\"UB: {ub}\")\n",
        "print(f\"Max: {max}\")\n",
        "print(f\"IQR: {iqr}\")\n",
        "print(f\"Standard Deviation: {std}\")\n",
        "\n",
        "renamed_evaluations.boxplot(column=['Entrypoint Similarity'], figsize=(5, 5))"
      ],
      "execution_count": 24,
      "outputs": [
        {
          "output_type": "stream",
          "text": [
            "Mean Entrypoint Similarity: 80.11290322580643 %\n",
            "Min: 0.0\n",
            "LB: 26.499999999999986\n",
            "Q1: 70.6\n",
            "Q2: 100.0\n",
            "Q3: 100.0\n",
            "UB: 144.10000000000002\n",
            "Max: 100.0\n",
            "IQR: 29.400000000000006\n",
            "Standard Deviation: 32.329591624758514\n"
          ],
          "name": "stdout"
        },
        {
          "output_type": "execute_result",
          "data": {
            "text/plain": [
              "<matplotlib.axes._subplots.AxesSubplot at 0x7fc251f7b250>"
            ]
          },
          "metadata": {
            "tags": []
          },
          "execution_count": 24
        },
        {
          "output_type": "display_data",
          "data": {
            "image/png": "[encoded data removed]",
            "text/plain": [
              "<Figure size 360x360 with 1 Axes>"
            ]
          },
          "metadata": {
            "tags": [],
            "needs_background": "light"
          }
        }
      ]
    }
  ]
}